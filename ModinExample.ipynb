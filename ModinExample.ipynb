{
 "cells": [
  {
   "cell_type": "markdown",
   "metadata": {},
   "source": [
    "# Accelerate Pandas using Modin\n",
    "For more information ...\n",
    "https://github.com/modin-project/modin\n",
    "\n",
    "Note: Lauch using the modin environment create in Anacnda\n"
   ]
  },
  {
   "cell_type": "code",
   "execution_count": 1,
   "metadata": {},
   "outputs": [],
   "source": [
    "import os\n",
    "\n",
    "os.environ[\"MODIN_ENGINE\"] = \"ray\"  # Modin will use Ray\n",
    "# os.environ[\"MODIN_ENGINE\"] = \"dask\"  # Modin will use Dask\n",
    "\n",
    "# *** With one line change of code ***\n",
    "# import pandas as pd\n",
    "import modin.pandas as pd\n"
   ]
  },
  {
   "cell_type": "markdown",
   "metadata": {},
   "source": [
    "Regular Pandas has the folowing loading time\n",
    "CPU times: user 2.27 s, sys: 329 ms, total: 2.6 s  Wall time: 2.67 s\n",
    "\n",
    "Modin has the following loading time\n",
    "CPU times: user 76 ms, sys: 15.2 ms, total: 91.2 ms  Wall time: 870 ms\n"
   ]
  },
  {
   "cell_type": "code",
   "execution_count": 2,
   "metadata": {},
   "outputs": [
    {
     "name": "stdout",
     "output_type": "stream",
     "text": [
      "CPU times: user 72.2 ms, sys: 14.8 ms, total: 87 ms\n",
      "Wall time: 880 ms\n"
     ]
    }
   ],
   "source": [
    "%%time\n",
    "df = pd.read_csv('/Users/dblny2/data/airline-delays/1987.csv')"
   ]
  },
  {
   "cell_type": "code",
   "execution_count": 3,
   "metadata": {},
   "outputs": [
    {
     "data": {
      "text/plain": [
       "['/Users/dblny2/data/airline-delays/1987.csv',\n",
       " '/Users/dblny2/data/airline-delays/1988.csv',\n",
       " '/Users/dblny2/data/airline-delays/1989.csv',\n",
       " '/Users/dblny2/data/airline-delays/1990.csv']"
      ]
     },
     "execution_count": 3,
     "metadata": {},
     "output_type": "execute_result"
    }
   ],
   "source": [
    "\n",
    "from glob import glob\n",
    "# filenames = sorted(glob(os.path.join('data', 'nycflights', '*.csv')))\n",
    "filenames = sorted(glob('/Users/dblny2/data/airline-delays/*.csv'))\n",
    "filenames\n"
   ]
  },
  {
   "cell_type": "code",
   "execution_count": 4,
   "metadata": {},
   "outputs": [
    {
     "name": "stderr",
     "output_type": "stream",
     "text": [
      "UserWarning: `DataFrame.groupby_on_multiple_columns` defaulting to pandas implementation.\n",
      "To request implementation, send an email to feature_requests@modin.org.\n",
      "UserWarning: `DataFrame.groupby_on_multiple_columns` defaulting to pandas implementation.\n"
     ]
    },
    {
     "name": "stdout",
     "output_type": "stream",
     "text": [
      "CPU times: user 36.9 s, sys: 24.6 s, total: 1min 1s\n",
      "Wall time: 3min 23s\n"
     ]
    }
   ],
   "source": [
    "%%time\n",
    "\n",
    "sums = []\n",
    "counts = []\n",
    "for fn in filenames:\n",
    "    # Read in file\n",
    "    df = pd.read_csv(fn)\n",
    "    \n",
    "    # Groupby origin airport\n",
    "    by_origin = df.groupby('Origin')\n",
    "    \n",
    "    # Sum of all departure delays by origin\n",
    "    total = by_origin.DepDelay.sum()\n",
    "    \n",
    "    # Number of flights by origin\n",
    "    count = by_origin.DepDelay.count()\n",
    "    \n",
    "    # Save the intermediates\n",
    "    sums.append(total)\n",
    "    counts.append(count)\n",
    "\n",
    "# Combine intermediates to get total mean-delay-per-origin\n",
    "total_delays = sum(sums)\n",
    "n_flights = sum(counts)\n",
    "mean = total_delays / n_flights\n",
    "\n",
    "# regular Pandas processing time (without dask or modin )\n",
    "# CPU times: user 28.9 s, sys: 4.32 s, total: 33.3 s  Wall time: 32.3 s\n",
    "\n",
    "# regular Pandas processing time (in modin mode) - probably cos it converting to pandas\n",
    "# CPU times: user 36.9 s, sys: 24.6 s, total: 1min 1s Wall time: 3min 23s\n"
   ]
  },
  {
   "cell_type": "code",
   "execution_count": 5,
   "metadata": {},
   "outputs": [
    {
     "data": {
      "text/plain": [
       "Origin\n",
       "ABE     5.232255\n",
       "ABI          NaN\n",
       "ABQ     6.410557\n",
       "ACV          NaN\n",
       "ACY          NaN\n",
       "         ...    \n",
       "WRG     8.487733\n",
       "YAK     6.403458\n",
       "YAP    19.099857\n",
       "YKM          NaN\n",
       "YUM     3.510718\n",
       "Name: DepDelay, Length: 250, dtype: float64"
      ]
     },
     "execution_count": 5,
     "metadata": {},
     "output_type": "execute_result"
    }
   ],
   "source": [
    "mean"
   ]
  },
  {
   "cell_type": "code",
   "execution_count": 6,
   "metadata": {},
   "outputs": [
    {
     "data": {
      "text/latex": [
       "Some important equations:$E = mc^2$\n",
       "$e^{i pi} = -1$\n"
      ],
      "text/plain": [
       "<IPython.core.display.Latex object>"
      ]
     },
     "metadata": {},
     "output_type": "display_data"
    }
   ],
   "source": [
    "%%latex\n",
    "Some important equations:$E = mc^2$\n",
    "$e^{i pi} = -1$"
   ]
  },
  {
   "cell_type": "code",
   "execution_count": null,
   "metadata": {},
   "outputs": [],
   "source": []
  }
 ],
 "metadata": {
  "kernelspec": {
   "display_name": "Python 3",
   "language": "python",
   "name": "python3"
  },
  "language_info": {
   "codemirror_mode": {
    "name": "ipython",
    "version": 3
   },
   "file_extension": ".py",
   "mimetype": "text/x-python",
   "name": "python",
   "nbconvert_exporter": "python",
   "pygments_lexer": "ipython3",
   "version": "3.7.5"
  }
 },
 "nbformat": 4,
 "nbformat_minor": 4
}
